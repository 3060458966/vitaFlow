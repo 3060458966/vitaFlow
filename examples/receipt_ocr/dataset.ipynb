{
 "cells": [
  {
   "cell_type": "markdown",
   "metadata": {},
   "source": [
    "## References\n",
    "- Lib: https://github.com/okfn-brasil/serenata-toolbox\n",
    "- https://gist.github.com/fgrehm/572ba814d617e831f4b1faac5e0b9165\n"
   ]
  },
  {
   "cell_type": "code",
   "execution_count": null,
   "metadata": {
    "collapsed": true
   },
   "outputs": [],
   "source": [
    "!pip install -U serenata-toolbox"
   ]
  },
  {
   "cell_type": "code",
   "execution_count": null,
   "metadata": {
    "collapsed": true
   },
   "outputs": [],
   "source": [
    "!mkdir data"
   ]
  },
  {
   "cell_type": "code",
   "execution_count": null,
   "metadata": {
    "collapsed": true
   },
   "outputs": [],
   "source": [
    "from serenata_toolbox.datasets import Datasets\n",
    "datasets = Datasets('data/')\n",
    "\n",
    "# now lets see what are the latest datasets available\n",
    "for dataset in datasets.downloader.LATEST:\n",
    "    print(dataset)  # and you'll see a long list of datasets!\n",
    "\n",
    "# and let's download one of them\n",
    "datasets.downloader.download('2018-01-05-reimbursements.xz')  # yay, you've just downloaded this dataset to data/\n"
   ]
  },
  {
   "cell_type": "code",
   "execution_count": null,
   "metadata": {
    "collapsed": true
   },
   "outputs": [],
   "source": [
    "reimbursements = pd.read_csv('data/2018-01-05-reimbursements.xz', low_memory=False)"
   ]
  },
  {
   "cell_type": "code",
   "execution_count": null,
   "metadata": {
    "collapsed": true
   },
   "outputs": [],
   "source": [
    "print(\"Total reimbursements:\", len(reimbursements))"
   ]
  },
  {
   "cell_type": "code",
   "execution_count": null,
   "metadata": {
    "collapsed": true
   },
   "outputs": [],
   "source": [
    "reimbursements.year.value_counts()"
   ]
  },
  {
   "cell_type": "code",
   "execution_count": null,
   "metadata": {
    "collapsed": true
   },
   "outputs": [],
   "source": [
    "reimbursements = reimbursements.query('(subquota_description == \"Congressperson meal\")')\n",
    "reimbursements.year.value_counts()"
   ]
  },
  {
   "cell_type": "code",
   "execution_count": null,
   "metadata": {
    "collapsed": true
   },
   "outputs": [],
   "source": [
    "reimbursements = reimbursements.query('year >= 2015')\n",
    "len(reimbursements)"
   ]
  },
  {
   "cell_type": "code",
   "execution_count": null,
   "metadata": {
    "collapsed": true
   },
   "outputs": [],
   "source": [
    "def url(row):\n",
    "    args = (row.applicant_id, row.year, row.document_id)\n",
    "    return (\n",
    "        'http://www.camara.gov.br/'\n",
    "        'cota-parlamentar/documentos/publ/{}/{}/{}.pdf'\n",
    "    ).format(*args)\n",
    "\n",
    "reimbursements['url'] = reimbursements.apply(url, axis=1)"
   ]
  },
  {
   "cell_type": "code",
   "execution_count": null,
   "metadata": {
    "collapsed": true
   },
   "outputs": [],
   "source": [
    "%%time\n",
    "\n",
    "if not os.path.exists(\"data/ocr-receipts\"):\n",
    "    os.makedirs(\"data/ocr-receipts\")\n",
    "\n",
    "def load_url(document_id, url, timeout):\n",
    "    receipt_file = \"data/ocr-receipts/{}.pdf\".format(document_id)\n",
    "    if os.path.exists(receipt_file):\n",
    "        return True\n",
    "    else:\n",
    "        return urlretrieve(url, receipt_file, )\n",
    "\n",
    "# We can use a with statement to ensure threads are cleaned up promptly\n",
    "receipts_downloaded = {}\n",
    "with concurrent.futures.ThreadPoolExecutor(max_workers=8) as executor:\n",
    "    # Start the load operations and mark each future with its URL\n",
    "    future_to_document_id = {executor.submit(load_url, r.document_id, r.url, 60): r.document_id for _, r in reimbursements.iterrows()}\n",
    "    i = 0\n",
    "    for future in concurrent.futures.as_completed(future_to_document_id):\n",
    "        document_id = future_to_document_id[future]\n",
    "        try:\n",
    "            i += 1\n",
    "            if i % 1000 == 0:\n",
    "                print(\"At\", i)\n",
    "            future.result()\n",
    "        except Exception as exc:\n",
    "            print('%r generated an exception: %s' % (document_id, exc))\n",
    "            receipts_downloaded[document_id] = False\n",
    "        else:\n",
    "            receipts_downloaded[document_id] = True\n"
   ]
  },
  {
   "cell_type": "code",
   "execution_count": null,
   "metadata": {
    "collapsed": true
   },
   "outputs": [],
   "source": [
    "%%bash \n",
    "du -h data/ocr-receipts/"
   ]
  },
  {
   "cell_type": "code",
   "execution_count": null,
   "metadata": {
    "collapsed": true
   },
   "outputs": [],
   "source": [
    "r = reimbursements.set_index('document_id')\n",
    "r['receipt_downloaded'] = pd.Series(receipts_downloaded)\n",
    "r = r.reset_index()\n",
    "r.head(10)\n"
   ]
  },
  {
   "cell_type": "code",
   "execution_count": null,
   "metadata": {
    "collapsed": true
   },
   "outputs": [],
   "source": []
  },
  {
   "cell_type": "code",
   "execution_count": null,
   "metadata": {
    "collapsed": true
   },
   "outputs": [],
   "source": []
  }
 ],
 "metadata": {
  "kernelspec": {
   "display_name": "Python 3",
   "language": "python",
   "name": "python3"
  },
  "language_info": {
   "codemirror_mode": {
    "name": "ipython",
    "version": 3
   },
   "file_extension": ".py",
   "mimetype": "text/x-python",
   "name": "python",
   "nbconvert_exporter": "python",
   "pygments_lexer": "ipython3",
   "version": "3.6.1"
  }
 },
 "nbformat": 4,
 "nbformat_minor": 2
}
