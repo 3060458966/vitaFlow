{
 "cells": [
  {
   "cell_type": "code",
   "execution_count": 86,
   "metadata": {},
   "outputs": [
    {
     "data": {
      "text/plain": [
       "[1, 2]"
      ]
     },
     "execution_count": 86,
     "metadata": {},
     "output_type": "execute_result"
    }
   ],
   "source": [
    "a = set((123, 21, 1, 2))\n",
    "b = set((1, 2))\n",
    "\n",
    "list(a.intersection(b))"
   ]
  },
  {
   "cell_type": "code",
   "execution_count": 1,
   "metadata": {},
   "outputs": [],
   "source": [
    "import glob\n",
    "import os\n",
    "import random\n",
    "\n",
    "try:\n",
    "    from . import config\n",
    "except:\n",
    "    import config\n",
    "\n",
    "PWD = os.path.dirname(config.__file__)\n",
    "\n",
    "\n",
    "class GetNewImage:\n",
    "    ImageFiles = {}\n",
    "    XmlFiles = {}\n",
    "    PendingImages = []\n",
    "    CompletedImages = []\n",
    "\n",
    "    @staticmethod\n",
    "    def refresh():\n",
    "        # with timely invervals - 5 mins update\n",
    "        GetNewImage.XmlFiles = GetNewImage._get_annotations()\n",
    "        GetNewImage.ImageFiles = GetNewImage._get_images()\n",
    "\n",
    "        def trim_ext(x):\n",
    "            return x.rsplit('.')[-2]\n",
    "        xml_files_keys = set(map(trim_ext, GetNewImage.XmlFiles.keys()))\n",
    "        image_files_keys = set(map(trim_ext, GetNewImage.ImageFiles.keys()))\n",
    "        GetNewImage.PendingImages = list(image_files_keys - xml_files_keys)\n",
    "        GetNewImage.CompletedImages = list(image_files_keys.intersection(xml_files_keys))\n",
    "\n",
    "    @staticmethod\n",
    "    def update_data(data):\n",
    "        pass\n",
    "\n",
    "    @staticmethod\n",
    "    def get_new_image(data=None):\n",
    "        if data:\n",
    "            GetNewImage.update_data(data)\n",
    "\n",
    "        if GetNewImage.PendingImages:\n",
    "            image_file = random.choice(GetNewImage.PendingImages)\n",
    "            image_file = [each for each in GetNewImage.ImageFiles.keys() if each.startswith(image_file)][0]\n",
    "            send_info = {\n",
    "                'id': image_file,\n",
    "                'url': GetNewImage.ImageFiles[image_file]['url'],\n",
    "                'folder': '',\n",
    "                \"annotations\": []\n",
    "            }\n",
    "        else:\n",
    "            send_info = {\"url\": \"/static/data/images/pexels-photo-60091.jpg\",\n",
    "                         \"id\": \"pexels-photo-60091.jpg\",\n",
    "                         \"folder\": \"collection_01/part_1\",\n",
    "                         \"annotations\": [\n",
    "                             {\n",
    "                                 \"tag\": \"Eagle\",\n",
    "                                 \"x\": 475, \"y\": 225,\n",
    "                                 \"width\": 230.555555554,\n",
    "                                 \"height\": 438.888888886}\n",
    "                         ]\n",
    "                         }\n",
    "        return send_info\n",
    "\n",
    "    @staticmethod\n",
    "    def get_old_image():\n",
    "        image_file = random.choice(list(GetNewImage.XmlFiles.keys()))\n",
    "        send_info = {\n",
    "            'id': image_file,\n",
    "            'url': GetNewImage.XmlFiles[image_file]['url'],\n",
    "            'folder': '',\n",
    "            \"annotations\": []\n",
    "        }\n",
    "        return send_info\n",
    "\n",
    "    @staticmethod\n",
    "    def _parser_folder(folder='static/data/images', exts=None):\n",
    "        search_folder = folder\n",
    "        if os.path.isdir(os.path.join(PWD, folder)):\n",
    "            search_folder = os.path.join(PWD, folder)\n",
    "        # print('Request Parsing: {}'.format(search_folder))\n",
    "        bag = []\n",
    "        for filename in glob.iglob(search_folder + '*', recursive=True):\n",
    "            file = os.path.basename(filename)\n",
    "            url = os.path.join(folder, file)\n",
    "            bag.append(url)\n",
    "        if not exts:\n",
    "            return bag\n",
    "        _bag = []\n",
    "        for ext in exts:\n",
    "            for file in bag:\n",
    "                if file.endswith(ext):\n",
    "                    _bag.append(file)\n",
    "        return _bag\n",
    "\n",
    "    @staticmethod\n",
    "    def _get_images():\n",
    "        images_dict = {}\n",
    "        for each in GetNewImage._parser_folder('static/data/images/'):\n",
    "            url = each.split(PWD)[-1].lstrip('/')\n",
    "            file = os.path.basename(url)\n",
    "            # print(url, file)\n",
    "            images_dict[file] = {\n",
    "                'url': url,\n",
    "                'fullpath': each\n",
    "            }\n",
    "        return images_dict\n",
    "\n",
    "    @staticmethod\n",
    "    def _get_annotations():\n",
    "        xml_dict = {}\n",
    "        xml_files = GetNewImage._parser_folder('static/data/annotations/', ['.xml'])\n",
    "        for each in xml_files:\n",
    "            url = each.split(PWD)[-1].lstrip('/')\n",
    "            file = os.path.basename(url)\n",
    "            # print(url, file)\n",
    "            xml_dict[file] = {\n",
    "                'url': url,\n",
    "                'fullpath': each\n",
    "            }\n",
    "        return xml_dict\n"
   ]
  },
  {
   "cell_type": "code",
   "execution_count": 2,
   "metadata": {},
   "outputs": [
    {
     "data": {
      "text/plain": [
       "'/Users/sampathm/devbox/vitaFlow/vitaflow/annotate_server'"
      ]
     },
     "execution_count": 2,
     "metadata": {},
     "output_type": "execute_result"
    }
   ],
   "source": [
    "PWD"
   ]
  },
  {
   "cell_type": "code",
   "execution_count": 3,
   "metadata": {},
   "outputs": [],
   "source": [
    "GetNewImage.refresh()"
   ]
  },
  {
   "cell_type": "code",
   "execution_count": 4,
   "metadata": {},
   "outputs": [
    {
     "data": {
      "text/plain": [
       "dict_keys(['street-animals-birds-doves.xml', 'pexels-photo-56733.xml', 'pexels-photo-416117.xml', 'gulls-seagull-wings-feather-56593.xml', 'bird-birds-ibis-flight-55817.xml', 'pexels-photo-66629.xml'])"
      ]
     },
     "execution_count": 4,
     "metadata": {},
     "output_type": "execute_result"
    }
   ],
   "source": [
    "GetNewImage.XmlFiles.keys()"
   ]
  },
  {
   "cell_type": "code",
   "execution_count": 5,
   "metadata": {},
   "outputs": [
    {
     "data": {
      "text/plain": [
       "dict_keys(['street-animals-birds-doves.jpg', 'pexels-photo-56733.jpg', 'pexels-photo-60091.jpg', 'pexels-photo-416117.jpg', 'pexels-photo-145380.jpg', 'pexels-photo-110812.jpg', 'pexels-photo-151048.jpg', 'gulls-seagull-wings-feather-56593.jpg', 'bird-birds-ibis-flight-55817.jpg', 'pexels-photo-66629.jpg'])"
      ]
     },
     "execution_count": 5,
     "metadata": {},
     "output_type": "execute_result"
    }
   ],
   "source": [
    "GetNewImage.ImageFiles.keys()"
   ]
  },
  {
   "cell_type": "code",
   "execution_count": 6,
   "metadata": {},
   "outputs": [
    {
     "data": {
      "text/plain": [
       "['pexels-photo-110812',\n",
       " 'pexels-photo-151048',\n",
       " 'pexels-photo-145380',\n",
       " 'pexels-photo-60091']"
      ]
     },
     "execution_count": 6,
     "metadata": {},
     "output_type": "execute_result"
    }
   ],
   "source": [
    "GetNewImage.PendingImages"
   ]
  },
  {
   "cell_type": "code",
   "execution_count": 7,
   "metadata": {},
   "outputs": [
    {
     "data": {
      "text/plain": [
       "['pexels-photo-416117',\n",
       " 'pexels-photo-66629',\n",
       " 'gulls-seagull-wings-feather-56593',\n",
       " 'bird-birds-ibis-flight-55817',\n",
       " 'pexels-photo-56733',\n",
       " 'street-animals-birds-doves']"
      ]
     },
     "execution_count": 7,
     "metadata": {},
     "output_type": "execute_result"
    }
   ],
   "source": [
    "GetNewImage.CompletedImages"
   ]
  },
  {
   "cell_type": "code",
   "execution_count": 8,
   "metadata": {},
   "outputs": [
    {
     "data": {
      "text/plain": [
       "{'id': 'pexels-photo-145380.jpg',\n",
       " 'url': 'static/data/images/pexels-photo-145380.jpg',\n",
       " 'folder': '',\n",
       " 'annotations': []}"
      ]
     },
     "execution_count": 8,
     "metadata": {},
     "output_type": "execute_result"
    }
   ],
   "source": [
    "GetNewImage.get_new_image()"
   ]
  },
  {
   "cell_type": "code",
   "execution_count": 9,
   "metadata": {},
   "outputs": [
    {
     "data": {
      "text/plain": [
       "['pexels-photo-110812',\n",
       " 'pexels-photo-151048',\n",
       " 'pexels-photo-145380',\n",
       " 'pexels-photo-60091']"
      ]
     },
     "execution_count": 9,
     "metadata": {},
     "output_type": "execute_result"
    }
   ],
   "source": [
    "GetNewImage.refresh()\n",
    "GetNewImage.PendingImages"
   ]
  },
  {
   "cell_type": "code",
   "execution_count": null,
   "metadata": {},
   "outputs": [],
   "source": []
  },
  {
   "cell_type": "code",
   "execution_count": 10,
   "metadata": {},
   "outputs": [
    {
     "name": "stdout",
     "output_type": "stream",
     "text": [
      "total 40\r\n",
      "-rw-r--r--  1 sampathm  staff  955 Jan 31 11:07 bird-birds-ibis-flight-55817.xml\r\n",
      "-rw-r--r--  1 sampathm  staff  642 Jan 31 11:07 gulls-seagull-wings-feather-56593.xml\r\n",
      "-rw-r--r--  1 sampathm  staff  632 Jan 31 11:07 pexels-photo-416117.xml\r\n",
      "-rw-r--r--  1 sampathm  staff  627 Jan 31 11:49 pexels-photo-56733.xml\r\n",
      "-rw-r--r--  1 sampathm  staff  636 Jan 31 11:06 pexels-photo-66629.xml\r\n",
      "-rw-r--r--  1 sampathm  staff    0 Feb  7 18:47 street-animals-birds-doves.xml\r\n",
      "-rw-r--r--  1 sampathm  staff    0 Feb  1 17:00 temp\r\n"
     ]
    }
   ],
   "source": [
    "!ls -l static/data/annotations/"
   ]
  },
  {
   "cell_type": "code",
   "execution_count": 11,
   "metadata": {},
   "outputs": [],
   "source": [
    "!touch static/data/annotations/street-animals-birds-doves.xml"
   ]
  },
  {
   "cell_type": "code",
   "execution_count": 12,
   "metadata": {},
   "outputs": [
    {
     "data": {
      "text/plain": [
       "['pexels-photo-110812',\n",
       " 'pexels-photo-151048',\n",
       " 'pexels-photo-145380',\n",
       " 'pexels-photo-60091']"
      ]
     },
     "execution_count": 12,
     "metadata": {},
     "output_type": "execute_result"
    }
   ],
   "source": [
    "GetNewImage.refresh()\n",
    "GetNewImage.PendingImages"
   ]
  },
  {
   "cell_type": "code",
   "execution_count": 1,
   "metadata": {},
   "outputs": [],
   "source": [
    "import annotate"
   ]
  },
  {
   "cell_type": "code",
   "execution_count": 8,
   "metadata": {},
   "outputs": [
    {
     "name": "stdout",
     "output_type": "stream",
     "text": [
      "total 48\r\n",
      "-rw-r--r--  1 sampathm  staff  955 Jan 31 11:07 bird-birds-ibis-flight-55817.xml\r\n",
      "-rw-r--r--  1 sampathm  staff  642 Jan 31 11:07 gulls-seagull-wings-feather-56593.xml\r\n",
      "-rw-r--r--  1 sampathm  staff  615 Feb  7 19:00 pexels-photo-110812.xml\r\n",
      "-rw-r--r--  1 sampathm  staff  632 Jan 31 11:07 pexels-photo-416117.xml\r\n",
      "-rw-r--r--  1 sampathm  staff  627 Jan 31 11:49 pexels-photo-56733.xml\r\n",
      "-rw-r--r--  1 sampathm  staff  636 Jan 31 11:06 pexels-photo-66629.xml\r\n"
     ]
    }
   ],
   "source": [
    "!ls -l static/data/annotations/"
   ]
  },
  {
   "cell_type": "code",
   "execution_count": 9,
   "metadata": {},
   "outputs": [
    {
     "name": "stdout",
     "output_type": "stream",
     "text": [
      "<?xml version=\"1.0\" ?>\n",
      "<annotation>\n",
      "\t<folder/>\n",
      "\t<filename>pexels-photo-110812.jpg</filename>\n",
      "\t<path>static/data/images/pexels-photo-110812.jpg</path>\n",
      "\t<source>\n",
      "\t\t<database>Unknown</database>\n",
      "\t</source>\n",
      "\t<size_part>\n",
      "\t\t<width>1135</width>\n",
      "\t\t<height>750</height>\n",
      "\t\t<depth>3</depth>\n",
      "\t</size_part>\n",
      "\t<segmented>0</segmented>\n",
      "\t<object>\n",
      "\t\t<name>Eagle</name>\n",
      "\t\t<pose>Unspecified</pose>\n",
      "\t\t<truncated>0</truncated>\n",
      "\t\t<difficult>0</difficult>\n",
      "\t\t<bndbox>\n",
      "\t\t\t<xmin>419.547123623011</xmin>\n",
      "\t\t\t<ymin>168.05555555555554</ymin>\n",
      "\t\t\t<xmax>718.2313341493268</xmax>\n",
      "\t\t\t<ymax>584.7222222222222</ymax>\n",
      "\t\t</bndbox>\n",
      "\t</object>\n",
      "</annotation>\n",
      "\n"
     ]
    }
   ],
   "source": [
    "annotate.validate_tags_and_regions({'sendInfo': '{\"url\":\"static/data/images/pexels-photo-110812.jpg\",\"id\":\"pexels-photo-110812.jpg\",\"folder\":\"\",\"width\":1135,\"height\":750,\"annotations\":[{\"tag\":\"Eagle\",\"x\":419.547123623011,\"y\":168.05555555555554,\"width\":298.6842105263158,\"height\":416.66666666666663}]}'})"
   ]
  },
  {
   "cell_type": "code",
   "execution_count": 10,
   "metadata": {},
   "outputs": [
    {
     "name": "stdout",
     "output_type": "stream",
     "text": [
      "total 48\r\n",
      "-rw-r--r--  1 sampathm  staff  955 Jan 31 11:07 bird-birds-ibis-flight-55817.xml\r\n",
      "-rw-r--r--  1 sampathm  staff  642 Jan 31 11:07 gulls-seagull-wings-feather-56593.xml\r\n",
      "-rw-r--r--  1 sampathm  staff  615 Feb  7 19:01 pexels-photo-110812.xml\r\n",
      "-rw-r--r--  1 sampathm  staff  632 Jan 31 11:07 pexels-photo-416117.xml\r\n",
      "-rw-r--r--  1 sampathm  staff  627 Jan 31 11:49 pexels-photo-56733.xml\r\n",
      "-rw-r--r--  1 sampathm  staff  636 Jan 31 11:06 pexels-photo-66629.xml\r\n"
     ]
    }
   ],
   "source": [
    "!ls -l static/data/annotations/"
   ]
  },
  {
   "cell_type": "code",
   "execution_count": null,
   "metadata": {},
   "outputs": [],
   "source": []
  }
 ],
 "metadata": {
  "kernelspec": {
   "display_name": "Python 3",
   "language": "python",
   "name": "python3"
  },
  "language_info": {
   "codemirror_mode": {
    "name": "ipython",
    "version": 3
   },
   "file_extension": ".py",
   "mimetype": "text/x-python",
   "name": "python",
   "nbconvert_exporter": "python",
   "pygments_lexer": "ipython3",
   "version": "3.6.8"
  }
 },
 "nbformat": 4,
 "nbformat_minor": 2
}
